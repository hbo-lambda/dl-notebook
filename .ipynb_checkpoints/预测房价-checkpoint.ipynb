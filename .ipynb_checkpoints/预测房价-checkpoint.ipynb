{
 "cells": [
  {
   "cell_type": "code",
   "execution_count": 1,
   "metadata": {},
   "outputs": [
    {
     "name": "stderr",
     "output_type": "stream",
     "text": [
      "Using TensorFlow backend.\n"
     ]
    }
   ],
   "source": [
    "from keras.datasets import boston_housing\n",
    "(train_data, train_targets), (test_data, test_targets) = boston_housing.load_data()"
   ]
  },
  {
   "cell_type": "markdown",
   "metadata": {},
   "source": [
    "### 准备数据\n",
    "将数值范围很大的数据输入到神经网络中，是有问题的。网络可能会自动适应这种取值范围不同的数据，但学习肯定变得更加困难。对于这种数据，普遍采用的最佳实践是对每个特征做**标准化**，即**对输入数据的每个特征(输入数据矩阵中的列)，减去特征平均值，再除以标准差，这样得到的特征平均值为0，标准差为1。**使用Numpy可以很容易实现标准化。"
   ]
  },
  {
   "cell_type": "markdown",
   "metadata": {},
   "source": [
    "**用于测试数据标准化的平均值和标准差都是在训练数据上计算得到的。**\n",
    "**在工作流程中，不能使用在测试数据计算得到的任何结果，即使是数据标准化这么简单的事情也不行。**"
   ]
  },
  {
   "cell_type": "code",
   "execution_count": 14,
   "metadata": {
    "scrolled": true
   },
   "outputs": [],
   "source": [
    "# 数据标准化\n",
    "mean = train_data.mean(axis=0)\n",
    "train_data -= mean\n",
    "std = train_data.std(axis=0)\n",
    "train_data /= std\n",
    "test_data -= mean  # 采用的是训练集的平均值\n",
    "test_data /= std  # 采用的是训练集的标准差"
   ]
  },
  {
   "cell_type": "markdown",
   "metadata": {},
   "source": [
    "### 构建网络\n",
    "一般来说，训练数据越少，过拟合会越严重，而较小的网络可以降低过拟合"
   ]
  },
  {
   "cell_type": "code",
   "execution_count": 15,
   "metadata": {},
   "outputs": [],
   "source": [
    "from keras import models\n",
    "from keras import layers\n",
    "\n",
    "def build_model():\n",
    "    model = models.Sequential()\n",
    "    model.add(layers.Dense(64, activation='relu', input_shape=(train_data.shape[1],)))\n",
    "    model.add(layers.Dense(64, activation='relu'))\n",
    "    model.add(layers.Dense(1))\n",
    "    model.compile(optimizer='rmsprop', loss='mse', metrics=['mae'])\n",
    "    return model"
   ]
  },
  {
   "cell_type": "markdown",
   "metadata": {},
   "source": [
    "**网络的最后一层只有一个单元，没有激活，是一个线性层。这是标量回归（标量回归是预测单一连续值的回归）\n",
    "的典型设置。添加激活函数将会限制输出范围。  \n",
    "例如，如果向最后一层添加sigmod激活函数，网络只能预测0～1\n",
    "范围内的值，这里最后一层是纯线性的，所以网络可以预测任意范围内的值。  \n",
    "注：  \n",
    "1、编译网络时用的是mse损失函数，即均方误差(MSE, mean squared error)，预测值与目标值之差的平方。\n",
    "这是回归问题常用的损失函数。\n",
    "2、训练过程中监控了一个新指标：平均绝对误差(MAE, mean absolute error)。它是预测值与标准值之差的绝对值。\n",
    "比如这个问题的MAE等于0.5，就表示预测的房价与实际价格平均相差500美元。**"
   ]
  },
  {
   "cell_type": "markdown",
   "metadata": {},
   "source": [
    "### 利用K折验证\n",
    "适合应用到数据集小的情况\n",
    "将数据氛围k个分区(k通常为4或5)，实例化k个相同的模型，将每个模型在k-1个分区上训练，并在剩下的一个分区上进行评估。"
   ]
  },
  {
   "cell_type": "code",
   "execution_count": 23,
   "metadata": {},
   "outputs": [
    {
     "name": "stdout",
     "output_type": "stream",
     "text": [
      "processing fold % 0\n",
      "processing fold % 1\n",
      "processing fold % 2\n",
      "processing fold % 3\n"
     ]
    }
   ],
   "source": [
    "import numpy as np\n",
    "\n",
    "k = 4\n",
    "num_val_samples = len(train_data) // k\n",
    "num_epochs = 100\n",
    "all_scores = []\n",
    "\n",
    "for i in range(k):\n",
    "    print('processing fold %', i)\n",
    "    val_data = train_data[i * num_val_samples: (i + 1) * num_val_samples]\n",
    "    val_targets = train_targets[i * num_val_samples: (i + 1) * num_val_samples]\n",
    "    \n",
    "    partial_train_data = np.concatenate(\n",
    "        [train_data[:i * num_val_samples], train_data[(i + 1) * num_val_samples:]], axis=0\n",
    "    )\n",
    "    \n",
    "    partial_train_targets = np.concatenate(\n",
    "        [train_targets[:i * num_val_samples], train_targets[(i + 1) * num_val_samples:]], axis=0\n",
    "    )\n",
    "    \n",
    "    model = build_model()\n",
    "    model.fit(\n",
    "        partial_train_data, partial_train_targets,\n",
    "        epochs=num_epochs,\n",
    "        batch_size=1,\n",
    "        verbose=0\n",
    "    )  # 静默模式，verbose=0\n",
    "    val_mse, val_mae = model.evaluate(val_data, val_targets, verbose=0)\n",
    "    all_scores.append(val_mae)"
   ]
  },
  {
   "cell_type": "code",
   "execution_count": 24,
   "metadata": {},
   "outputs": [
    {
     "data": {
      "text/plain": [
       "[2.118621843876225, 2.3930334383898444, 2.886435895863146, 2.3571436830086285]"
      ]
     },
     "execution_count": 24,
     "metadata": {},
     "output_type": "execute_result"
    }
   ],
   "source": [
    "all_scores"
   ]
  },
  {
   "cell_type": "code",
   "execution_count": 25,
   "metadata": {},
   "outputs": [
    {
     "data": {
      "text/plain": [
       "2.438808715284461"
      ]
     },
     "execution_count": 25,
     "metadata": {},
     "output_type": "execute_result"
    }
   ],
   "source": [
    "np.mean(all_scores)"
   ]
  },
  {
   "cell_type": "code",
   "execution_count": null,
   "metadata": {},
   "outputs": [],
   "source": []
  }
 ],
 "metadata": {
  "kernelspec": {
   "display_name": "Python 3",
   "language": "python",
   "name": "python3"
  },
  "language_info": {
   "codemirror_mode": {
    "name": "ipython",
    "version": 3
   },
   "file_extension": ".py",
   "mimetype": "text/x-python",
   "name": "python",
   "nbconvert_exporter": "python",
   "pygments_lexer": "ipython3",
   "version": "3.6.9"
  }
 },
 "nbformat": 4,
 "nbformat_minor": 2
}
